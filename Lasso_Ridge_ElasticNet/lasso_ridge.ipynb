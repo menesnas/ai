{
 "cells": [
  {
   "cell_type": "code",
   "execution_count": 123,
   "id": "1d4b8e3a-0f2a-4d55-8ee7-e3d52ca1cc9c",
   "metadata": {},
   "outputs": [],
   "source": [
    "import pandas as pd\n",
    "import numpy as np\n",
    "import matplotlib.pyplot as plt\n",
    "import seaborn as sbn\n",
    "from sklearn.preprocessing import LabelEncoder, OneHotEncoder\n",
    "from sklearn.model_selection import train_test_split\n",
    "from sklearn.preprocessing import StandardScaler\n",
    "from sklearn.linear_model import LogisticRegression, Ridge, RidgeCV, Lasso, LassoCV, ElasticNet, ElasticNetCV\n",
    "from sklearn.metrics import mean_absolute_error, mean_squared_error, r2_score"
   ]
  },
  {
   "cell_type": "code",
   "execution_count": 2,
   "id": "239c4b62-f0ac-47b3-92c4-c8846a7029ca",
   "metadata": {},
   "outputs": [
    {
     "data": {
      "text/html": [
       "<div>\n",
       "<style scoped>\n",
       "    .dataframe tbody tr th:only-of-type {\n",
       "        vertical-align: middle;\n",
       "    }\n",
       "\n",
       "    .dataframe tbody tr th {\n",
       "        vertical-align: top;\n",
       "    }\n",
       "\n",
       "    .dataframe thead th {\n",
       "        text-align: right;\n",
       "    }\n",
       "</style>\n",
       "<table border=\"1\" class=\"dataframe\">\n",
       "  <thead>\n",
       "    <tr style=\"text-align: right;\">\n",
       "      <th></th>\n",
       "      <th>Unnamed: 0</th>\n",
       "      <th>Id</th>\n",
       "      <th>SepalLengthCm</th>\n",
       "      <th>SepalWidthCm</th>\n",
       "      <th>PetalLengthCm</th>\n",
       "      <th>PetalWidthCm</th>\n",
       "      <th>Species</th>\n",
       "    </tr>\n",
       "  </thead>\n",
       "  <tbody>\n",
       "    <tr>\n",
       "      <th>0</th>\n",
       "      <td>0</td>\n",
       "      <td>0</td>\n",
       "      <td>5.1</td>\n",
       "      <td>3.5</td>\n",
       "      <td>1.4</td>\n",
       "      <td>0.2</td>\n",
       "      <td>Iris-setosa</td>\n",
       "    </tr>\n",
       "    <tr>\n",
       "      <th>1</th>\n",
       "      <td>1</td>\n",
       "      <td>1</td>\n",
       "      <td>4.7</td>\n",
       "      <td>3.2</td>\n",
       "      <td>1.6</td>\n",
       "      <td>0.2</td>\n",
       "      <td>Iris-setosa</td>\n",
       "    </tr>\n",
       "    <tr>\n",
       "      <th>2</th>\n",
       "      <td>2</td>\n",
       "      <td>2</td>\n",
       "      <td>4.9</td>\n",
       "      <td>3.1</td>\n",
       "      <td>1.5</td>\n",
       "      <td>0.1</td>\n",
       "      <td>Iris-setosa</td>\n",
       "    </tr>\n",
       "    <tr>\n",
       "      <th>3</th>\n",
       "      <td>3</td>\n",
       "      <td>3</td>\n",
       "      <td>4.4</td>\n",
       "      <td>2.9</td>\n",
       "      <td>1.4</td>\n",
       "      <td>0.2</td>\n",
       "      <td>Iris-setosa</td>\n",
       "    </tr>\n",
       "    <tr>\n",
       "      <th>4</th>\n",
       "      <td>4</td>\n",
       "      <td>4</td>\n",
       "      <td>5.0</td>\n",
       "      <td>3.4</td>\n",
       "      <td>1.5</td>\n",
       "      <td>0.2</td>\n",
       "      <td>Iris-setosa</td>\n",
       "    </tr>\n",
       "  </tbody>\n",
       "</table>\n",
       "</div>"
      ],
      "text/plain": [
       "   Unnamed: 0  Id  SepalLengthCm  SepalWidthCm  PetalLengthCm  PetalWidthCm  \\\n",
       "0           0   0            5.1           3.5            1.4           0.2   \n",
       "1           1   1            4.7           3.2            1.6           0.2   \n",
       "2           2   2            4.9           3.1            1.5           0.1   \n",
       "3           3   3            4.4           2.9            1.4           0.2   \n",
       "4           4   4            5.0           3.4            1.5           0.2   \n",
       "\n",
       "       Species  \n",
       "0  Iris-setosa  \n",
       "1  Iris-setosa  \n",
       "2  Iris-setosa  \n",
       "3  Iris-setosa  \n",
       "4  Iris-setosa  "
      ]
     },
     "execution_count": 2,
     "metadata": {},
     "output_type": "execute_result"
    }
   ],
   "source": [
    "iris = pd.read_csv(\"data_with_nans.csv\")\n",
    "df = iris.copy()\n",
    "df.head()"
   ]
  },
  {
   "cell_type": "code",
   "execution_count": 3,
   "id": "1372fca5-7a0e-4d4b-a3a5-e29d50163503",
   "metadata": {},
   "outputs": [
    {
     "name": "stdout",
     "output_type": "stream",
     "text": [
      "<class 'pandas.core.frame.DataFrame'>\n",
      "RangeIndex: 170 entries, 0 to 169\n",
      "Data columns (total 7 columns):\n",
      " #   Column         Non-Null Count  Dtype  \n",
      "---  ------         --------------  -----  \n",
      " 0   Unnamed: 0     170 non-null    int64  \n",
      " 1   Id             170 non-null    int64  \n",
      " 2   SepalLengthCm  167 non-null    float64\n",
      " 3   SepalWidthCm   169 non-null    float64\n",
      " 4   PetalLengthCm  166 non-null    float64\n",
      " 5   PetalWidthCm   168 non-null    float64\n",
      " 6   Species        170 non-null    object \n",
      "dtypes: float64(4), int64(2), object(1)\n",
      "memory usage: 9.4+ KB\n"
     ]
    }
   ],
   "source": [
    "df.info()"
   ]
  },
  {
   "cell_type": "code",
   "execution_count": 4,
   "id": "7e8ee168-f43b-42a5-9704-1ab966af8da0",
   "metadata": {},
   "outputs": [
    {
     "data": {
      "text/plain": [
       "Index(['Unnamed: 0', 'Id', 'SepalLengthCm', 'SepalWidthCm', 'PetalLengthCm',\n",
       "       'PetalWidthCm', 'Species'],\n",
       "      dtype='object')"
      ]
     },
     "execution_count": 4,
     "metadata": {},
     "output_type": "execute_result"
    }
   ],
   "source": [
    "df.columns"
   ]
  },
  {
   "cell_type": "code",
   "execution_count": 5,
   "id": "fa05b635-d69b-48e4-90df-16e03933f82d",
   "metadata": {},
   "outputs": [],
   "source": [
    "df.drop(columns=[df.columns[0]],inplace=True)"
   ]
  },
  {
   "cell_type": "code",
   "execution_count": 6,
   "id": "421614c9-3720-4f24-bbdf-fcba1820d0f5",
   "metadata": {},
   "outputs": [
    {
     "data": {
      "text/html": [
       "<div>\n",
       "<style scoped>\n",
       "    .dataframe tbody tr th:only-of-type {\n",
       "        vertical-align: middle;\n",
       "    }\n",
       "\n",
       "    .dataframe tbody tr th {\n",
       "        vertical-align: top;\n",
       "    }\n",
       "\n",
       "    .dataframe thead th {\n",
       "        text-align: right;\n",
       "    }\n",
       "</style>\n",
       "<table border=\"1\" class=\"dataframe\">\n",
       "  <thead>\n",
       "    <tr style=\"text-align: right;\">\n",
       "      <th></th>\n",
       "      <th>Id</th>\n",
       "      <th>SepalLengthCm</th>\n",
       "      <th>SepalWidthCm</th>\n",
       "      <th>PetalLengthCm</th>\n",
       "      <th>PetalWidthCm</th>\n",
       "      <th>Species</th>\n",
       "    </tr>\n",
       "  </thead>\n",
       "  <tbody>\n",
       "    <tr>\n",
       "      <th>0</th>\n",
       "      <td>0</td>\n",
       "      <td>5.1</td>\n",
       "      <td>3.5</td>\n",
       "      <td>1.4</td>\n",
       "      <td>0.2</td>\n",
       "      <td>Iris-setosa</td>\n",
       "    </tr>\n",
       "    <tr>\n",
       "      <th>1</th>\n",
       "      <td>1</td>\n",
       "      <td>4.7</td>\n",
       "      <td>3.2</td>\n",
       "      <td>1.6</td>\n",
       "      <td>0.2</td>\n",
       "      <td>Iris-setosa</td>\n",
       "    </tr>\n",
       "    <tr>\n",
       "      <th>2</th>\n",
       "      <td>2</td>\n",
       "      <td>4.9</td>\n",
       "      <td>3.1</td>\n",
       "      <td>1.5</td>\n",
       "      <td>0.1</td>\n",
       "      <td>Iris-setosa</td>\n",
       "    </tr>\n",
       "    <tr>\n",
       "      <th>3</th>\n",
       "      <td>3</td>\n",
       "      <td>4.4</td>\n",
       "      <td>2.9</td>\n",
       "      <td>1.4</td>\n",
       "      <td>0.2</td>\n",
       "      <td>Iris-setosa</td>\n",
       "    </tr>\n",
       "    <tr>\n",
       "      <th>4</th>\n",
       "      <td>4</td>\n",
       "      <td>5.0</td>\n",
       "      <td>3.4</td>\n",
       "      <td>1.5</td>\n",
       "      <td>0.2</td>\n",
       "      <td>Iris-setosa</td>\n",
       "    </tr>\n",
       "  </tbody>\n",
       "</table>\n",
       "</div>"
      ],
      "text/plain": [
       "   Id  SepalLengthCm  SepalWidthCm  PetalLengthCm  PetalWidthCm      Species\n",
       "0   0            5.1           3.5            1.4           0.2  Iris-setosa\n",
       "1   1            4.7           3.2            1.6           0.2  Iris-setosa\n",
       "2   2            4.9           3.1            1.5           0.1  Iris-setosa\n",
       "3   3            4.4           2.9            1.4           0.2  Iris-setosa\n",
       "4   4            5.0           3.4            1.5           0.2  Iris-setosa"
      ]
     },
     "execution_count": 6,
     "metadata": {},
     "output_type": "execute_result"
    }
   ],
   "source": [
    "df.head()"
   ]
  },
  {
   "cell_type": "code",
   "execution_count": 7,
   "id": "f8072022-81ac-4007-b2c5-6aceb79ba7bc",
   "metadata": {},
   "outputs": [
    {
     "data": {
      "text/html": [
       "<div>\n",
       "<style scoped>\n",
       "    .dataframe tbody tr th:only-of-type {\n",
       "        vertical-align: middle;\n",
       "    }\n",
       "\n",
       "    .dataframe tbody tr th {\n",
       "        vertical-align: top;\n",
       "    }\n",
       "\n",
       "    .dataframe thead th {\n",
       "        text-align: right;\n",
       "    }\n",
       "</style>\n",
       "<table border=\"1\" class=\"dataframe\">\n",
       "  <thead>\n",
       "    <tr style=\"text-align: right;\">\n",
       "      <th></th>\n",
       "      <th>Id</th>\n",
       "      <th>SepalLengthCm</th>\n",
       "      <th>SepalWidthCm</th>\n",
       "      <th>PetalLengthCm</th>\n",
       "      <th>PetalWidthCm</th>\n",
       "      <th>Species</th>\n",
       "    </tr>\n",
       "  </thead>\n",
       "  <tbody>\n",
       "    <tr>\n",
       "      <th>50</th>\n",
       "      <td>50</td>\n",
       "      <td>5.1</td>\n",
       "      <td>3.8</td>\n",
       "      <td>NaN</td>\n",
       "      <td>0.2</td>\n",
       "      <td>Iris-setosa</td>\n",
       "    </tr>\n",
       "    <tr>\n",
       "      <th>51</th>\n",
       "      <td>51</td>\n",
       "      <td>NaN</td>\n",
       "      <td>3.7</td>\n",
       "      <td>1.5</td>\n",
       "      <td>0.4</td>\n",
       "      <td>Iris-setosa</td>\n",
       "    </tr>\n",
       "    <tr>\n",
       "      <th>52</th>\n",
       "      <td>52</td>\n",
       "      <td>5.3</td>\n",
       "      <td>3.7</td>\n",
       "      <td>NaN</td>\n",
       "      <td>0.2</td>\n",
       "      <td>Iris-setosa</td>\n",
       "    </tr>\n",
       "    <tr>\n",
       "      <th>53</th>\n",
       "      <td>53</td>\n",
       "      <td>4.6</td>\n",
       "      <td>NaN</td>\n",
       "      <td>1.4</td>\n",
       "      <td>0.3</td>\n",
       "      <td>Iris-setosa</td>\n",
       "    </tr>\n",
       "    <tr>\n",
       "      <th>54</th>\n",
       "      <td>54</td>\n",
       "      <td>4.4</td>\n",
       "      <td>3.0</td>\n",
       "      <td>1.3</td>\n",
       "      <td>NaN</td>\n",
       "      <td>Iris-setosa</td>\n",
       "    </tr>\n",
       "    <tr>\n",
       "      <th>59</th>\n",
       "      <td>59</td>\n",
       "      <td>NaN</td>\n",
       "      <td>2.3</td>\n",
       "      <td>1.3</td>\n",
       "      <td>0.3</td>\n",
       "      <td>Iris-setosa</td>\n",
       "    </tr>\n",
       "    <tr>\n",
       "      <th>98</th>\n",
       "      <td>98</td>\n",
       "      <td>6.3</td>\n",
       "      <td>3.3</td>\n",
       "      <td>NaN</td>\n",
       "      <td>1.6</td>\n",
       "      <td>Iris-versicolor</td>\n",
       "    </tr>\n",
       "    <tr>\n",
       "      <th>109</th>\n",
       "      <td>109</td>\n",
       "      <td>NaN</td>\n",
       "      <td>2.9</td>\n",
       "      <td>4.5</td>\n",
       "      <td>1.5</td>\n",
       "      <td>Iris-versicolor</td>\n",
       "    </tr>\n",
       "    <tr>\n",
       "      <th>113</th>\n",
       "      <td>113</td>\n",
       "      <td>6.1</td>\n",
       "      <td>2.9</td>\n",
       "      <td>NaN</td>\n",
       "      <td>1.4</td>\n",
       "      <td>Iris-versicolor</td>\n",
       "    </tr>\n",
       "    <tr>\n",
       "      <th>160</th>\n",
       "      <td>160</td>\n",
       "      <td>5.8</td>\n",
       "      <td>2.8</td>\n",
       "      <td>5.1</td>\n",
       "      <td>NaN</td>\n",
       "      <td>Iris-virginica</td>\n",
       "    </tr>\n",
       "  </tbody>\n",
       "</table>\n",
       "</div>"
      ],
      "text/plain": [
       "      Id  SepalLengthCm  SepalWidthCm  PetalLengthCm  PetalWidthCm  \\\n",
       "50    50            5.1           3.8            NaN           0.2   \n",
       "51    51            NaN           3.7            1.5           0.4   \n",
       "52    52            5.3           3.7            NaN           0.2   \n",
       "53    53            4.6           NaN            1.4           0.3   \n",
       "54    54            4.4           3.0            1.3           NaN   \n",
       "59    59            NaN           2.3            1.3           0.3   \n",
       "98    98            6.3           3.3            NaN           1.6   \n",
       "109  109            NaN           2.9            4.5           1.5   \n",
       "113  113            6.1           2.9            NaN           1.4   \n",
       "160  160            5.8           2.8            5.1           NaN   \n",
       "\n",
       "             Species  \n",
       "50       Iris-setosa  \n",
       "51       Iris-setosa  \n",
       "52       Iris-setosa  \n",
       "53       Iris-setosa  \n",
       "54       Iris-setosa  \n",
       "59       Iris-setosa  \n",
       "98   Iris-versicolor  \n",
       "109  Iris-versicolor  \n",
       "113  Iris-versicolor  \n",
       "160   Iris-virginica  "
      ]
     },
     "execution_count": 7,
     "metadata": {},
     "output_type": "execute_result"
    }
   ],
   "source": [
    "df[df.isna().any(axis=1)]\n",
    "\n",
    "## Nan degerler"
   ]
  },
  {
   "cell_type": "code",
   "execution_count": 207,
   "id": "3fffeda4-d93b-4361-9a6b-82d0916a2e52",
   "metadata": {},
   "outputs": [
    {
     "data": {
      "text/plain": [
       "SepalLengthCm    False\n",
       "SepalWidthCm     False\n",
       "PetalLengthCm    False\n",
       "PetalWidthCm     False\n",
       "Species          False\n",
       "dtype: bool"
      ]
     },
     "execution_count": 207,
     "metadata": {},
     "output_type": "execute_result"
    }
   ],
   "source": [
    "df.eq(0).any()\n",
    "\n",
    "## Değerlerde 0 olmaması gerekiyor. 0 olan değer var mı kontrolü yapıldı"
   ]
  },
  {
   "cell_type": "code",
   "execution_count": 9,
   "id": "2ef0426a-4bca-40f3-add2-a62ee251c0f5",
   "metadata": {},
   "outputs": [
    {
     "data": {
      "text/html": [
       "<div>\n",
       "<style scoped>\n",
       "    .dataframe tbody tr th:only-of-type {\n",
       "        vertical-align: middle;\n",
       "    }\n",
       "\n",
       "    .dataframe tbody tr th {\n",
       "        vertical-align: top;\n",
       "    }\n",
       "\n",
       "    .dataframe thead th {\n",
       "        text-align: right;\n",
       "    }\n",
       "</style>\n",
       "<table border=\"1\" class=\"dataframe\">\n",
       "  <thead>\n",
       "    <tr style=\"text-align: right;\">\n",
       "      <th></th>\n",
       "      <th>count</th>\n",
       "      <th>mean</th>\n",
       "      <th>std</th>\n",
       "      <th>min</th>\n",
       "      <th>25%</th>\n",
       "      <th>50%</th>\n",
       "      <th>75%</th>\n",
       "      <th>max</th>\n",
       "    </tr>\n",
       "  </thead>\n",
       "  <tbody>\n",
       "    <tr>\n",
       "      <th>Id</th>\n",
       "      <td>170.0</td>\n",
       "      <td>84.500000</td>\n",
       "      <td>49.218899</td>\n",
       "      <td>0.0</td>\n",
       "      <td>42.25</td>\n",
       "      <td>84.5</td>\n",
       "      <td>126.75</td>\n",
       "      <td>169.0</td>\n",
       "    </tr>\n",
       "    <tr>\n",
       "      <th>SepalLengthCm</th>\n",
       "      <td>167.0</td>\n",
       "      <td>5.826347</td>\n",
       "      <td>0.827189</td>\n",
       "      <td>4.3</td>\n",
       "      <td>5.10</td>\n",
       "      <td>5.8</td>\n",
       "      <td>6.40</td>\n",
       "      <td>7.9</td>\n",
       "    </tr>\n",
       "    <tr>\n",
       "      <th>SepalWidthCm</th>\n",
       "      <td>169.0</td>\n",
       "      <td>3.072781</td>\n",
       "      <td>0.447578</td>\n",
       "      <td>2.0</td>\n",
       "      <td>2.80</td>\n",
       "      <td>3.0</td>\n",
       "      <td>3.40</td>\n",
       "      <td>4.4</td>\n",
       "    </tr>\n",
       "    <tr>\n",
       "      <th>PetalLengthCm</th>\n",
       "      <td>166.0</td>\n",
       "      <td>3.707229</td>\n",
       "      <td>1.789382</td>\n",
       "      <td>1.0</td>\n",
       "      <td>1.50</td>\n",
       "      <td>4.3</td>\n",
       "      <td>5.10</td>\n",
       "      <td>6.9</td>\n",
       "    </tr>\n",
       "    <tr>\n",
       "      <th>PetalWidthCm</th>\n",
       "      <td>168.0</td>\n",
       "      <td>1.180357</td>\n",
       "      <td>0.765049</td>\n",
       "      <td>0.1</td>\n",
       "      <td>0.30</td>\n",
       "      <td>1.3</td>\n",
       "      <td>1.80</td>\n",
       "      <td>2.5</td>\n",
       "    </tr>\n",
       "  </tbody>\n",
       "</table>\n",
       "</div>"
      ],
      "text/plain": [
       "               count       mean        std  min    25%   50%     75%    max\n",
       "Id             170.0  84.500000  49.218899  0.0  42.25  84.5  126.75  169.0\n",
       "SepalLengthCm  167.0   5.826347   0.827189  4.3   5.10   5.8    6.40    7.9\n",
       "SepalWidthCm   169.0   3.072781   0.447578  2.0   2.80   3.0    3.40    4.4\n",
       "PetalLengthCm  166.0   3.707229   1.789382  1.0   1.50   4.3    5.10    6.9\n",
       "PetalWidthCm   168.0   1.180357   0.765049  0.1   0.30   1.3    1.80    2.5"
      ]
     },
     "execution_count": 9,
     "metadata": {},
     "output_type": "execute_result"
    }
   ],
   "source": [
    "df.describe().T"
   ]
  },
  {
   "cell_type": "code",
   "execution_count": null,
   "id": "8ae8757b-8e7c-4b12-965d-04f295214215",
   "metadata": {
    "scrolled": true
   },
   "outputs": [],
   "source": [
    "for i in df.columns[1:-1]:\n",
    "    plt.figure(figsize=(10,3))\n",
    "    sbn.scatterplot(data=df,hue=\"Species\",x=\"Id\",y=i)"
   ]
  },
  {
   "cell_type": "markdown",
   "id": "4d529353-0220-4531-80bd-58a2d4711ef9",
   "metadata": {},
   "source": [
    "#### Outliers"
   ]
  },
  {
   "cell_type": "code",
   "execution_count": 12,
   "id": "13cde794-5da0-4c9e-bc06-b31db882b48d",
   "metadata": {},
   "outputs": [
    {
     "name": "stdout",
     "output_type": "stream",
     "text": [
      "Index([14], dtype='int64')\n",
      "Index([], dtype='int64')\n",
      "Index([], dtype='int64')\n",
      "Index([], dtype='int64')\n",
      "Index([90], dtype='int64')\n",
      "Index([], dtype='int64')\n",
      "Index([27], dtype='int64')\n",
      "Index([], dtype='int64')\n",
      "Index([144], dtype='int64')\n",
      "Index([43, 55], dtype='int64')\n",
      "Index([], dtype='int64')\n",
      "Index([], dtype='int64')\n"
     ]
    }
   ],
   "source": [
    "for column in df.columns[1:-1]:\n",
    "    for spec in df[\"Species\"].unique():\n",
    "        selected_spec = df[df[\"Species\"] == spec]\n",
    "        selected_column = selected_spec[column]\n",
    "        \n",
    "        std = selected_column.std()\n",
    "        avg = selected_column.mean()\n",
    "        \n",
    "        three_sigma_plus = avg + (3 * std)\n",
    "        three_sigma_minus = avg - (3 * std)\n",
    "        \n",
    "        outliers = selected_column[((selected_spec[column] > three_sigma_plus) | (selected_spec[column] < three_sigma_minus))].index\n",
    "        print(outliers)\n",
    "        df.drop(index = outliers, inplace=True)"
   ]
  },
  {
   "cell_type": "code",
   "execution_count": null,
   "id": "b8ff17a6-d722-4f75-90a7-3c5b513acf70",
   "metadata": {},
   "outputs": [],
   "source": [
    "for i in df.columns[1:-1]:\n",
    "    plt.figure(figsize=(10,3))\n",
    "    sbn.scatterplot(data=df,hue=\"Species\",x=\"Id\",y=i)\n",
    "    "
   ]
  },
  {
   "cell_type": "code",
   "execution_count": 14,
   "id": "0ed6319d-315f-4c82-a248-d1bbb3ef14ff",
   "metadata": {},
   "outputs": [
    {
     "data": {
      "text/plain": [
       "<Axes: >"
      ]
     },
     "execution_count": 14,
     "metadata": {},
     "output_type": "execute_result"
    },
    {
     "data": {
      "image/png": "[encoded data removed]",
      "text/plain": [
       "<Figure size 2500x1000 with 2 Axes>"
      ]
     },
     "metadata": {},
     "output_type": "display_data"
    }
   ],
   "source": [
    "import missingno as msno\n",
    "msno.matrix(df)"
   ]
  },
  {
   "cell_type": "markdown",
   "id": "25ab5051-ea45-48e2-a477-2b49e6df94cc",
   "metadata": {},
   "source": [
    "### Veriyi bölme "
   ]
  },
  {
   "cell_type": "code",
   "execution_count": 16,
   "id": "72624255-0d60-4bed-8d1a-7f5f2c8d7a11",
   "metadata": {},
   "outputs": [
    {
     "data": {
      "text/html": [
       "<div>\n",
       "<style scoped>\n",
       "    .dataframe tbody tr th:only-of-type {\n",
       "        vertical-align: middle;\n",
       "    }\n",
       "\n",
       "    .dataframe tbody tr th {\n",
       "        vertical-align: top;\n",
       "    }\n",
       "\n",
       "    .dataframe thead th {\n",
       "        text-align: right;\n",
       "    }\n",
       "</style>\n",
       "<table border=\"1\" class=\"dataframe\">\n",
       "  <thead>\n",
       "    <tr style=\"text-align: right;\">\n",
       "      <th></th>\n",
       "      <th>SepalLengthCm</th>\n",
       "      <th>SepalWidthCm</th>\n",
       "      <th>PetalLengthCm</th>\n",
       "      <th>PetalWidthCm</th>\n",
       "      <th>Species</th>\n",
       "    </tr>\n",
       "  </thead>\n",
       "  <tbody>\n",
       "    <tr>\n",
       "      <th>0</th>\n",
       "      <td>5.1</td>\n",
       "      <td>3.5</td>\n",
       "      <td>1.4</td>\n",
       "      <td>0.2</td>\n",
       "      <td>Iris-setosa</td>\n",
       "    </tr>\n",
       "    <tr>\n",
       "      <th>1</th>\n",
       "      <td>4.7</td>\n",
       "      <td>3.2</td>\n",
       "      <td>1.6</td>\n",
       "      <td>0.2</td>\n",
       "      <td>Iris-setosa</td>\n",
       "    </tr>\n",
       "    <tr>\n",
       "      <th>2</th>\n",
       "      <td>4.9</td>\n",
       "      <td>3.1</td>\n",
       "      <td>1.5</td>\n",
       "      <td>0.1</td>\n",
       "      <td>Iris-setosa</td>\n",
       "    </tr>\n",
       "    <tr>\n",
       "      <th>3</th>\n",
       "      <td>4.4</td>\n",
       "      <td>2.9</td>\n",
       "      <td>1.4</td>\n",
       "      <td>0.2</td>\n",
       "      <td>Iris-setosa</td>\n",
       "    </tr>\n",
       "    <tr>\n",
       "      <th>4</th>\n",
       "      <td>5.0</td>\n",
       "      <td>3.4</td>\n",
       "      <td>1.5</td>\n",
       "      <td>0.2</td>\n",
       "      <td>Iris-setosa</td>\n",
       "    </tr>\n",
       "  </tbody>\n",
       "</table>\n",
       "</div>"
      ],
      "text/plain": [
       "   SepalLengthCm  SepalWidthCm  PetalLengthCm  PetalWidthCm      Species\n",
       "0            5.1           3.5            1.4           0.2  Iris-setosa\n",
       "1            4.7           3.2            1.6           0.2  Iris-setosa\n",
       "2            4.9           3.1            1.5           0.1  Iris-setosa\n",
       "3            4.4           2.9            1.4           0.2  Iris-setosa\n",
       "4            5.0           3.4            1.5           0.2  Iris-setosa"
      ]
     },
     "execution_count": 16,
     "metadata": {},
     "output_type": "execute_result"
    }
   ],
   "source": [
    "df = df.drop(columns=\"Id\")\n",
    "df.head()"
   ]
  },
  {
   "cell_type": "code",
   "execution_count": 17,
   "id": "2321cffa-e23e-466b-9a91-491e22b60ca6",
   "metadata": {},
   "outputs": [],
   "source": [
    "X = df.drop(columns=\"Species\")\n",
    "Y = df[\"Species\"]"
   ]
  },
  {
   "cell_type": "code",
   "execution_count": 135,
   "id": "6b6667df-6387-4cad-9ae0-10fc91767f8a",
   "metadata": {},
   "outputs": [],
   "source": [
    "x_train, x_test, y_train, y_test = train_test_split(X,Y,test_size=0.3,stratify=df.iloc[:, -1])"
   ]
  },
  {
   "cell_type": "code",
   "execution_count": 137,
   "id": "65d6c7a1-273b-4238-a192-674b5655636d",
   "metadata": {},
   "outputs": [
    {
     "name": "stdout",
     "output_type": "stream",
     "text": [
      "test\n",
      "SepalLengthCm    48\n",
      "SepalWidthCm     50\n",
      "PetalLengthCm    49\n",
      "PetalWidthCm     49\n",
      "dtype: int64\n",
      "train\n",
      "SepalLengthCm    113\n",
      "SepalWidthCm     113\n",
      "PetalLengthCm    111\n",
      "PetalWidthCm     113\n",
      "dtype: int64\n"
     ]
    }
   ],
   "source": [
    "print(\"test\")\n",
    "print(x_test.count())\n",
    "print(\"train\")\n",
    "print(x_train.count())"
   ]
  },
  {
   "cell_type": "code",
   "execution_count": 139,
   "id": "034b76a5-4176-417d-86c1-125f12a5385a",
   "metadata": {},
   "outputs": [
    {
     "name": "stdout",
     "output_type": "stream",
     "text": [
      "y_train\n",
      "Species\n",
      "Iris-setosa        39\n",
      "Iris-virginica     38\n",
      "Iris-versicolor    37\n",
      "Name: count, dtype: int64\n",
      "y_test\n",
      "Species\n",
      "Iris-setosa        17\n",
      "Iris-virginica     17\n",
      "Iris-versicolor    16\n",
      "Name: count, dtype: int64\n"
     ]
    }
   ],
   "source": [
    "print(\"y_train\")\n",
    "print(y_train.value_counts())\n",
    "print(\"y_test\")\n",
    "print(y_test.value_counts())"
   ]
  },
  {
   "cell_type": "markdown",
   "id": "d2d11766-580e-4e33-b9b0-a9631b1c8438",
   "metadata": {},
   "source": [
    "- Nan değerler simple imputer veya fillna ile doldurulacak\n",
    "    - Veri sızıntısı olmaması için (istatiksel verilerin ortalama dağılımı değişmemesi) veriler train-test olarak ayrıldıktan sonra bu işlemler gerçekleştiriliyor\n",
    "- Normalizasyon-Standardizasyon\n",
    "- Encoding (label-onehot)"
   ]
  },
  {
   "cell_type": "code",
   "execution_count": 142,
   "id": "d45c87db-0ef1-4bef-a3ff-e434a8b8b80f",
   "metadata": {},
   "outputs": [],
   "source": [
    "from sklearn.impute import SimpleImputer"
   ]
  },
  {
   "cell_type": "code",
   "execution_count": 144,
   "id": "853933c1-4f60-494a-8ba0-5cbc3453586c",
   "metadata": {},
   "outputs": [
    {
     "data": {
      "text/plain": [
       "pandas.core.frame.DataFrame"
      ]
     },
     "execution_count": 144,
     "metadata": {},
     "output_type": "execute_result"
    }
   ],
   "source": [
    "type(x_train)"
   ]
  },
  {
   "cell_type": "code",
   "execution_count": 146,
   "id": "7e69133c-3d46-4772-8d40-e1667042f83b",
   "metadata": {},
   "outputs": [
    {
     "data": {
      "text/plain": [
       "Index(['SepalLengthCm', 'SepalWidthCm', 'PetalLengthCm', 'PetalWidthCm'], dtype='object')"
      ]
     },
     "execution_count": 146,
     "metadata": {},
     "output_type": "execute_result"
    }
   ],
   "source": [
    "columnss = df.columns[:-1]\n",
    "columnss"
   ]
  },
  {
   "cell_type": "code",
   "execution_count": 148,
   "id": "55b243ca-822e-422d-982e-0f7c5549b176",
   "metadata": {},
   "outputs": [],
   "source": [
    "imputer = SimpleImputer(strategy=\"mean\")\n",
    "imputed_data  = imputer.fit_transform(x_train)\n",
    "imputed_data_df = pd.DataFrame(imputed_data, columns=columnss)\n",
    "x_train = imputed_data_df.round(2)"
   ]
  },
  {
   "cell_type": "code",
   "execution_count": 150,
   "id": "9803e166-bc3c-4f5b-9352-b0522093efd5",
   "metadata": {},
   "outputs": [],
   "source": [
    "x_test = x_test.fillna(x_test.mean()).round(2)"
   ]
  },
  {
   "cell_type": "code",
   "execution_count": 152,
   "id": "67cdee63-7a32-4acd-a477-99358a0bae2c",
   "metadata": {},
   "outputs": [],
   "source": [
    "scaler = StandardScaler()\n",
    "x_train = scaler.fit_transform(x_train)\n",
    "x_test = scaler.transform(x_test)"
   ]
  },
  {
   "cell_type": "code",
   "execution_count": 180,
   "id": "752b08fd-94f0-41e3-a39c-de3eefe77c61",
   "metadata": {},
   "outputs": [],
   "source": [
    "le = LabelEncoder()\n",
    "y_train = le.fit_transform(y_train.ravel())\n",
    "y_test = le.transform(y_test.ravel())"
   ]
  },
  {
   "cell_type": "markdown",
   "id": "46a6fc65-435f-4d7a-b530-b5f7fdd2522f",
   "metadata": {},
   "source": [
    "- Veriler model egitimi için hazir"
   ]
  },
  {
   "cell_type": "code",
   "execution_count": 190,
   "id": "a9de56d5-b345-46dc-938d-09d5892f8427",
   "metadata": {},
   "outputs": [
    {
     "name": "stdout",
     "output_type": "stream",
     "text": [
      "Logistic Regression\n",
      "mae : 0.08\n",
      "rmse : 0.2571355684927677\n",
      "r2 score : 0.8823529411764706\n",
      "------------------------------\n",
      "Ridge\n",
      "mae : 0.1880066217467906\n",
      "rmse : 0.2571355684927677\n",
      "r2 score : 0.9040057446326363\n",
      "------------------------------\n",
      "RidgeCV\n",
      "mae : 0.19084911045294056\n",
      "rmse : 0.2571355684927677\n",
      "r2 score : 0.9017642653728124\n",
      "------------------------------\n",
      "Lasso\n",
      "mae : 0.6828070175438598\n",
      "rmse : 0.2571355684927677\n",
      "r2 score : -0.00011315698948100028\n",
      "------------------------------\n",
      "LassoCV\n",
      "mae : 0.1890803237222929\n",
      "rmse : 0.2571355684927677\n",
      "r2 score : 0.9027704563205692\n",
      "------------------------------\n",
      "ElasticNet\n",
      "mae : 0.5278538385567241\n",
      "rmse : 0.2571355684927677\n",
      "r2 score : 0.43893828867816087\n",
      "------------------------------\n",
      "ElasticNetCV\n",
      "mae : 0.18865250980520784\n",
      "rmse : 0.2571355684927677\n",
      "r2 score : 0.9027666167880899\n",
      "------------------------------\n"
     ]
    }
   ],
   "source": [
    "alphas = 10**np.linspace(10,-2,100)*0.5\n",
    "\n",
    "models = {\n",
    "    'Logistic Regression': LogisticRegression(),\n",
    "    'Ridge':Ridge(),\n",
    "    'RidgeCV': RidgeCV(alphas=alphas, cv = 5, scoring=\"neg_mean_absolute_error\"),\n",
    "    'Lasso': Lasso(),\n",
    "    'LassoCV' : LassoCV(alphas=None, cv=10, max_iter=10000),\n",
    "    'ElasticNet': ElasticNet(),\n",
    "    'ElasticNetCV': ElasticNetCV(cv = 10, random_state=1),\n",
    "}\n",
    "\n",
    "for model_name, model in models.items():\n",
    "    model.fit(x_train, y_train)\n",
    "    y_pred = model.predict(x_test)\n",
    "    print(model_name)\n",
    "    mean_abs = mean_absolute_error(y_test,y_pred)\n",
    "    r_mean_sq = np.sqrt(mean_squared_error(y_test,y_pred))\n",
    "    r2 = r2_score(y_test,y_pred)\n",
    "    print(f\"mae : {mean_abs}\")\n",
    "    print(f\"rmse : {mean_sq}\")\n",
    "    print(f\"r2 score : {r2}\")\n",
    "    print(\"-\"*30)\n"
   ]
  },
  {
   "cell_type": "markdown",
   "id": "e0e6d607-3a59-4cf3-a009-3a91815e525e",
   "metadata": {},
   "source": [
    "- Logistic Regression :\n",
    "    - mae : 0.08\n",
    "    - rmse : 0.2571355684927677    \n",
    "    - r2 score : 0.88235294117647\n",
    "    - diğer tekniklere göre LR, daha iyi bir performans gösteriyor gibi gözüküyor."
   ]
  },
  {
   "cell_type": "markdown",
   "id": "5790fbbc-7093-411e-99b6-c9e83446a326",
   "metadata": {},
   "source": [
    "- Veri hazırlama süreçlerinde sıklıkla yapılan hatalardan bazıları incelendi.\n",
    "- Özellikle veriler train/test olarak ayrılmadan eksik değerlerin ortalama ile doldurulması, encode ve scaling yapılması...\n",
    "\n",
    "- Lasso, Ridge ve ElasticNet regülarizasyon kullanılarak model performansı incelendi.\n",
    "- Veri seti karmaşık ve büyük değil. Lasso ve ElasticNet modellerinde fazla sadeleştirme olduğu için bu modeller veriyi açıklayamıyor.\n",
    "- LR, Ridge ve RidgeCV modelleri genelleme yetenekleri bakımından bu şekilde sıralanabilir.\n"
   ]
  }
 ],
 "metadata": {
  "kernelspec": {
   "display_name": "Python 3 (ipykernel)",
   "language": "python",
   "name": "python3"
  },
  "language_info": {
   "codemirror_mode": {
    "name": "ipython",
    "version": 3
   },
   "file_extension": ".py",
   "mimetype": "text/x-python",
   "name": "python",
   "nbconvert_exporter": "python",
   "pygments_lexer": "ipython3",
   "version": "3.12.4"
  }
 },
 "nbformat": 4,
 "nbformat_minor": 5
}
